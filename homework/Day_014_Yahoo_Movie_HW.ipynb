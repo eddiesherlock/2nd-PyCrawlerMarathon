{
 "cells": [
  {
   "cell_type": "markdown",
   "metadata": {},
   "source": [
    "# YAHOO電影爬蟲練習\n",
    "## 練習爬取電影放映資訊。必須逐步獲取電影的代號、放映地區、放映日期後，再送出查詢給伺服器。"
   ]
  },
  {
   "cell_type": "code",
   "execution_count": 1,
   "metadata": {},
   "outputs": [],
   "source": [
    "import requests\n",
    "import re\n",
    "from bs4 import BeautifulSoup"
   ]
  },
  {
   "cell_type": "markdown",
   "metadata": {},
   "source": [
    "### 先搜尋全部的電影代號(ID)資訊"
   ]
  },
  {
   "cell_type": "code",
   "execution_count": 2,
   "metadata": {},
   "outputs": [
    {
     "name": "stdout",
     "output_type": "stream",
     "text": [
      "Movie: 假面騎士令和時代的開端, ID: 10632\n",
      "Movie: 日暮, ID: 10603\n",
      "Movie: 無聲革命, ID: 10601\n",
      "Movie: 二階堂家物語, ID: 10597\n",
      "Movie: 惡之華, ID: 10587\n",
      "Movie: 蜈蚣降, ID: 10586\n",
      "Movie: 長沙里之戰：被遺忘的英雄, ID: 10585\n",
      "Movie: 靈異孤兒院, ID: 10584\n",
      "Movie: 數碼寶貝 LAST EVOLUTION 絆, ID: 10572\n",
      "Movie: 吞噬, ID: 10560\n",
      "Movie: 這一刻，想見你, ID: 10553\n",
      "Movie: 美好拾光公司, ID: 10541\n",
      "Movie: 緣來想見妳, ID: 10529\n",
      "Movie: 搭火車旅行好吃驚, ID: 10492\n",
      "Movie: 海上鋼琴師4K數位修復, ID: 10613\n",
      "Movie: 浪人47愁錢中, ID: 10596\n",
      "Movie: 戀愛倒帶中, ID: 10589\n",
      "Movie: 我的粉紅人生, ID: 10582\n",
      "Movie: 鑰命監獄, ID: 10579\n",
      "Movie: 罪：米開朗基羅, ID: 10574\n",
      "Movie: 居禮夫人：放射永恆, ID: 10537\n",
      "Movie: 知道天空有多藍的人啊, ID: 10526\n",
      "Movie: 築夢奇蹟, ID: 10511\n",
      "Movie: 末日異戰, ID: 10402\n",
      "Movie: 我不流行二十年, ID: 10614\n",
      "Movie: 下女的誘惑, ID: 10610\n",
      "Movie: 樂來越愛你, ID: 10609\n",
      "Movie: 謝謝你, ID: 10571\n",
      "Movie: 搞鬼, ID: 10570\n",
      "Movie: 政客誠實中, ID: 10563\n",
      "Movie: 女聲我最美, ID: 10528\n",
      "Movie: 真實, ID: 10523\n",
      "Movie: 特別嘉賓, ID: 10497\n",
      "Movie: 來自深淵 深沉靈魂的黎明, ID: 10483\n",
      "Movie: 侏羅紀世界：殞落國度, ID: 10595\n",
      "Movie: 霸王別姬, ID: 10594\n",
      "Movie: 阿飛正傳, ID: 10593\n",
      "Movie: 在黑暗中漫舞：20週年數位修復版, ID: 10590\n",
      "Movie: 羊男的迷宮, ID: 10580\n",
      "Movie: 冤鴦大盜, ID: 10573\n",
      "Movie: 火口的二人, ID: 10555\n",
      "Movie: 犬鳴村, ID: 10543\n",
      "Movie: 間諜速成班, ID: 10538\n",
      "Movie: 我的英雄學院劇場版：英雄新世紀, ID: 10481\n",
      "Movie: 魔髮精靈唱遊世界, ID: 10466\n",
      "Movie: 絕命直播, ID: 10548\n",
      "Movie: 託陰2：布拉姆回來了, ID: 10540\n",
      "Movie: 鏡中驚魂, ID: 10514\n",
      "Movie: 最初的晚餐, ID: 10510\n",
      "Movie: 抓住救命稻草的野獸們, ID: 10507\n",
      "Movie: Re從零開始的異世界生活 外傳集, ID: 10480\n",
      "Movie: 不愛鋼琴師, ID: 10542\n",
      "Movie: 刺激1995, ID: 10518\n",
      "Movie: 通靈少年2020, ID: 10517\n",
      "Movie: 安雅的回家路, ID: 10516\n",
      "Movie: 劇場版 不起眼女主角培育法 Fine, ID: 10486\n",
      "Movie: 練愛iNG, ID: 10442\n",
      "Movie: 鋼鐵勳章, ID: 10432\n",
      "Movie: 血衛, ID: 10469\n",
      "Movie: 狂飆一夢, ID: 10506\n",
      "Movie: 大畫特務, ID: 10478\n",
      "Movie: 明明會說話, ID: 10440\n",
      "Movie: 鳴鳥不飛：烏雲密布, ID: 10458\n",
      "Movie: 女鬼橋, ID: 10437\n",
      "Movie: 怨咒, ID: 10421\n",
      "Movie: 隱形人, ID: 10359\n",
      "Movie: 李察朱威爾事件, ID: 10368\n",
      "Movie: 逃出夢幻島, ID: 10485\n",
      "Movie: 雨天．紐約, ID: 10476\n",
      "Movie: 就愛斷捨離, ID: 10436\n",
      "Movie: 1917, ID: 10189\n",
      "Movie: 肥龍過江, ID: 10449\n",
      "Movie: 岳父受死吧, ID: 10446\n",
      "Movie: 你的情歌, ID: 10407\n",
      "Movie: 杜立德, ID: 10316\n",
      "Movie: 深海終劫站, ID: 10230\n",
      "Movie: 她們, ID: 10202\n",
      "Movie: 變身特務, ID: 9008\n",
      "Movie: 巧虎電影：英雄遊樂園, ID: 10429\n",
      "Movie: 不完美的正義, ID: 10243\n",
      "Movie: 絕地戰警FOR LIFE, ID: 10242\n",
      "Movie: 陰兒, ID: 10393\n",
      "Movie: 真愛裁會贏, ID: 10362\n",
      "Movie: 兔嘲男孩, ID: 10283\n",
      "Movie: 潛艦追緝, ID: 10333\n",
      "Movie: 野蠻遊戲：全面晉級, ID: 10134\n",
      "Movie: 冰雪奇緣2, ID: 9597\n",
      "Movie: 寄生上流, ID: 10020\n",
      "Movie: 魔女首部曲：誕生, ID: 8817\n",
      "Movie: 噤界, ID: 7509\n",
      "Movie: 獵殺星期一, ID: 7020\n",
      "Movie: 佈局, ID: 6814\n",
      "Movie: 玩命關頭8, ID: 6664\n",
      "Movie: 月光下的藍色男孩, ID: 6700\n",
      "Movie: 攻敵必救, ID: 6669\n",
      "Movie: 分裂, ID: 6432\n",
      "Movie: 我出去一下, ID: 6404\n",
      "Movie: 一首搖滾上月球, ID: 4887\n",
      "Movie: 錢不夠用2, ID: 3026\n"
     ]
    }
   ],
   "source": [
    "# 查看目前上映那些電影，並擷取出其ID資訊\n",
    "url = 'https://movies.yahoo.com.tw/'\n",
    "resp = requests.get(url)\n",
    "resp.encoding = 'utf-8'\n",
    "\n",
    "soup = BeautifulSoup(resp.text, 'lxml')\n",
    "html = soup.find(\"select\", attrs={'name':'movie_id'})\n",
    "movie_item = html.find_all(\"option\", attrs={'data-name':re.compile('.*')})\n",
    "\n",
    "for p in movie_item:\n",
    "    print(\"Movie: %s, ID: %s\" % (p[\"data-name\"], p[\"value\"]))"
   ]
  },
  {
   "cell_type": "markdown",
   "metadata": {},
   "source": [
    "### 指定你有興趣的電影其ID，然後查詢其放映地區資訊。"
   ]
  },
  {
   "cell_type": "code",
   "execution_count": 3,
   "metadata": {},
   "outputs": [],
   "source": [
    "# 參考前一個步驟中擷取到的ID資訊，並指定ID\n",
    "movie_id = 10632"
   ]
  },
  {
   "cell_type": "code",
   "execution_count": 4,
   "metadata": {},
   "outputs": [
    {
     "name": "stdout",
     "output_type": "stream",
     "text": [
      "放映地區: 台北市, 代號(area_id): 28\n",
      "放映地區: 新北市, 代號(area_id): 8\n",
      "放映地區: 桃園, 代號(area_id): 16\n",
      "放映地區: 新竹, 代號(area_id): 20\n",
      "放映地區: 苗栗, 代號(area_id): 15\n",
      "放映地區: 台中, 代號(area_id): 2\n",
      "放映地區: 台南, 代號(area_id): 10\n",
      "放映地區: 高雄, 代號(area_id): 17\n"
     ]
    }
   ],
   "source": [
    "url = 'https://movies.yahoo.com.tw/api/v1/areas_by_movie_theater'\n",
    "payload = {'movie_id':str(movie_id)}\n",
    "\n",
    "# 模擬一個header\n",
    "headers = {\n",
    "    'authority': 'movies.yahoo.com.tw',\n",
    "    'method': 'GET',\n",
    "    'path': '/api/v1/areas_by_movie_theater?movie_id=' + str(movie_id),\n",
    "    'scheme': 'https',\n",
    "    'accept': 'application/json, text/javascript, */*; q=0.01',\n",
    "    'accept-encoding': 'gzip, deflate, br',\n",
    "    'accept-language': 'zh-TW,zh;q=0.9,en-US;q=0.8,en;q=0.7,zh-CN;q=0.6',\n",
    "    'cookie': 'rxx=9s3x2fws06.1g16irnc&v=1; _ga=GA1.3.2056742944.1551651301; GUC=AQEBAQFczFpdm0IfmwSB&s=AQAAACoo4N5D&g=XMsVBw; BX=4hkdk1decm57t&b=3&s=mr; _ga=GA1.4.2056742944.1551651301; nexagesuid=82843256dd234e8e91aa73f2062f8218; browsed_movie=eyJpdiI6IlJXWWtiSWJaZlNGK2MxQnhscnVUYWc9PSIsInZhbHVlIjoiMXRhMmVHRXRIeUNjc1RBWDJzdGYwbnlIQURmWGsrcjJSMzhkbkcraDNJVUNIZEZsbzU3amlFcVZ1NzlmazJrTGpoMjVrbHk1YmpoRENXaHZTOUw1TmI2ZTZVWHdOejZQZm16RmVuMWlHTTJLaTZLVFZZVkFOMDlTd1wvSGltcytJIiwibWFjIjoiZWQ2ZjA4MmVjZmZlYjlmNjJmYmY2NGMyMDI0Njc0NWViYjVkOWE2NDg0N2RhODMxZjBjZDhiMmJhZTc2MDZhYiJ9; avi=eyJpdiI6Im1NeWFJRlVRWDR1endEcGRGUGJUbVE9PSIsInZhbHVlIjoickRpU3JuUytmcGl6cjF5OW0rNU9iZz09IiwibWFjIjoiY2VmY2NkNzZmM2NhNjY5YzlkOTcyNjE5OGEyMzU0NWYxOTdmMDRkMDY3OWNmMmZjOTMxYjc5MjI5N2Q5NGE5MiJ9; cmp=t=1559391030&j=0; _gid=GA1.4.779543841.1559391031; XSRF-TOKEN=eyJpdiI6IkhpS2hGcDRQaHlmWUJmaHdSS2Q2bHc9PSIsInZhbHVlIjoiOUVoNFk4OHI1UUZmUWRtYXhza0MyWjJSTlhlZ3RnT0VGeVJPN2JuczVRMGRFdWt2OUlsamVKeHRobFwvcHBGM0dhU3VyMXNGTHlsb2dVM2l0U1hpUGxBPT0iLCJtYWMiOiJkZWU4YzJhNjAxMTY3MzE4Y2ExNWIxYmE1ZjE1YWZlZTlhOTcyYjc4M2RlZGY4ZWNjZDYyMTA2NGYwZGViMzc2In0%3D; m_s=eyJpdiI6InpsZHZ2Tk1BZ0dxaHhETml1RjBnUXc9PSIsInZhbHVlIjoiSkNGeHUranRoXC85bDFiaDhySTJqNkJRcWdjWUxjeVRJSHVYZ1wvd2d4bWJZUTUrSHVDM0lUcW5KNHdETFZ4T1lieU81OUhzc1VoUXhZcWk0UDZSQXVFdz09IiwibWFjIjoiYmJkMDJkMDhlODIzMzcyMWY4M2NmYWNjNGVlOWRjMDIwZmVmNzAyMjE3Yzg3ZGY3ODBkZWEzZTI4MTI5ZWNmOSJ9; _gat=1; nexagesd=10',\n",
    "    'dnt': '1',\n",
    "    'mv-authorization': '21835b082e15b91a69b3851eec7b31b82ce82afb',\n",
    "    'referer': 'https://movies.yahoo.com.tw/',\n",
    "    'user-agent': 'Mozilla/5.0 (Windows NT 10.0; Win64; x64) AppleWebKit/537.36 (KHTML, like Gecko) Chrome/74.0.3729.169 Safari/537.36',\n",
    "    'x-requested-with': 'XMLHttpRequest',\n",
    "}\n",
    "    \n",
    "resp = requests.get(url, params=payload, headers=headers)\n",
    "#print(resp.json())  # 若有需要，列印出json原始碼\n",
    "\n",
    "# 這裡回傳的格式是JSON格式的資料，要解析JSON擷取資料\n",
    "for p in resp.json():\n",
    "    print('放映地區: {0}, 代號(area_id): {1}'.format(p['title'], p['area_id']))"
   ]
  },
  {
   "cell_type": "markdown",
   "metadata": {},
   "source": [
    "### 指定你想要觀看的放映地區，查詢有上映電影的場次日期"
   ]
  },
  {
   "cell_type": "code",
   "execution_count": 6,
   "metadata": {},
   "outputs": [],
   "source": [
    "# 指定放映地區\n",
    "area_id = 28"
   ]
  },
  {
   "cell_type": "code",
   "execution_count": 7,
   "metadata": {},
   "outputs": [
    {
     "name": "stdout",
     "output_type": "stream",
     "text": [
      "四月 27\n",
      "四月 28\n",
      "四月 29\n",
      "四月 30\n",
      "五月 1\n"
     ]
    }
   ],
   "source": [
    "# 向網站發送請求\n",
    "url = 'https://movies.yahoo.com.tw/movietime_result.html'\n",
    "payload = {'movie_id':str(movie_id), 'area_id':str(area_id)}\n",
    "resp = requests.get(url, params=payload)\n",
    "resp.encoding = 'utf-8'\n",
    "\n",
    "soup = BeautifulSoup(resp.text, 'lxml')\n",
    "movie_date = soup.find_all(\"label\", attrs={'for':re.compile(\"date_[\\d]\")})\n",
    "\n",
    "# 列印播放日期\n",
    "for date in movie_date:\n",
    "    print(\"%s %s\" % (date.p.string, date.h3.string))"
   ]
  },
  {
   "cell_type": "markdown",
   "metadata": {},
   "source": [
    "### 最後指定觀看的日期，查詢並列印出放映的電影院、放映類型(數位、3D、IMAX 3D...)、放映時間等資訊。"
   ]
  },
  {
   "cell_type": "code",
   "execution_count": 14,
   "metadata": {},
   "outputs": [],
   "source": [
    "# 選定要觀看的日期\n",
    "date = \"2020-04-28\""
   ]
  },
  {
   "cell_type": "code",
   "execution_count": 22,
   "metadata": {},
   "outputs": [],
   "source": [
    "# 向網站發送請求，獲取上映的電影院及時間資訊\n",
    "url = \"https://movies.yahoo.com.tw/ajax/pc/get_schedule_by_movie\"\n",
    "payload = {'movie_id':str(movie_id),\n",
    "           'date':date,\n",
    "           'area_id':str(area_id),\n",
    "           'theater_id':'',\n",
    "           'datetime':'',\n",
    "           'movie_type_id':''}\n",
    "\n",
    "resp = requests.get(url, params=payload)\n",
    "#print(resp.json()['view'])  # 若有需要，列印出json原始碼\n",
    "\n",
    "soup = BeautifulSoup(resp.json()['view'], 'lxml')\n",
    "html = soup.find_all(\"ul\", attrs={'data-theater_name':re.compile(\".*\")})"
   ]
  },
  {
   "cell_type": "code",
   "execution_count": 23,
   "metadata": {},
   "outputs": [
    {
     "name": "stdout",
     "output_type": "stream",
     "text": [
      "----------------------------------------------------------------------\n",
      "電影院:  台北日新威秀影城\n",
      "放映類型:  數位\n",
      "2020-04-28 14:00:00\n",
      "放映類型:  數位\n",
      "2020-04-28 16:25:00\n",
      "2020-04-28 20:35:00\n",
      "----------------------------------------------------------------------\n",
      "電影院:  台北信義威秀影城\n",
      "放映類型:  數位\n",
      "2020-04-28 11:00:00\n",
      "2020-04-28 14:50:00\n",
      "2020-04-28 18:45:00\n",
      "2020-04-28 20:55:00\n",
      "放映類型:  數位\n",
      "2020-04-28 12:55:00\n",
      "----------------------------------------------------------------------\n",
      "電影院:  京站威秀影城\n",
      "放映類型:  數位\n",
      "2020-04-28 11:35:00\n",
      "放映類型:  數位\n",
      "2020-04-28 16:00:00\n",
      "2020-04-28 19:30:00\n",
      "----------------------------------------------------------------------\n",
      "電影院:  MUVIE CINEMAS台北松仁威秀\n",
      "放映類型:  數位\n",
      "2020-04-28 16:10:00\n",
      "放映類型:  數位\n",
      "2020-04-28 19:50:00\n"
     ]
    }
   ],
   "source": [
    "for movie_theater in html:\n",
    "    print(\"----------------------------------------------------------------------\")\n",
    "    \n",
    "    theater_name = movie_theater.find(\"li\", attrs={'class':'adds'})\n",
    "    print(\"電影院: \", theater_name.a.string)\n",
    "\n",
    "    project_type = movie_theater.find_all(\"li\", attrs={'class':'taps'})  # 定位放映類型\n",
    "        \n",
    "    time_table = movie_theater.find_all(\"li\", attrs={'class':'time _c'})  # 定位時間表\n",
    "        \n",
    "    for i in range(len(project_type)):\n",
    "        print(\"放映類型: \", project_type[i].span.get_text())  # 印出電影類型\n",
    "        \n",
    "        for p4 in time_table[i].find_all(\"input\", attrs={'name':'schedule_list'}):\n",
    "            print(\"%s\" % (p4[\"value\"]))  # 印出放映時間"
   ]
  },
  {
   "cell_type": "code",
   "execution_count": null,
   "metadata": {},
   "outputs": [],
   "source": []
  }
 ],
 "metadata": {
  "kernelspec": {
   "display_name": "Python 3",
   "language": "python",
   "name": "python3"
  },
  "language_info": {
   "codemirror_mode": {
    "name": "ipython",
    "version": 3
   },
   "file_extension": ".py",
   "mimetype": "text/x-python",
   "name": "python",
   "nbconvert_exporter": "python",
   "pygments_lexer": "ipython3",
   "version": "3.7.6"
  }
 },
 "nbformat": 4,
 "nbformat_minor": 2
}
