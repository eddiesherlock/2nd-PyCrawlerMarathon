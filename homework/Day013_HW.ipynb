{
 "cells": [
  {
   "cell_type": "markdown",
   "metadata": {},
   "source": [
    "# PTT 網路爬蟲實作練習\n",
    "\n",
    "\n",
    "* 能夠利用 Request + BeatifulSour 撰寫爬蟲，並存放到合適的資料結構\n"
   ]
  },
  {
   "cell_type": "markdown",
   "metadata": {},
   "source": [
    "## 作業目標\n",
    "\n",
    "根據範例 ，完成以下問題：\n",
    "\n",
    "* ① 印出最新文章的「作者」「標題」「時間」\n",
    "* ② 印出第一頁所有文章的「作者」「標題」「時間」\n"
   ]
  },
  {
   "cell_type": "markdown",
   "metadata": {},
   "source": [
    "### ① 印出最新文章的「作者」「標題」「時間」"
   ]
  },
  {
   "cell_type": "code",
   "execution_count": 31,
   "metadata": {},
   "outputs": [
    {
     "name": "stdout",
     "output_type": "stream",
     "text": [
      "Re: [情報] 緯來體育台~Jordan 紀錄片 The Last Dance\n",
      "rent2ez\n",
      " 4/26\n"
     ]
    }
   ],
   "source": [
    "import requests\n",
    "from bs4 import BeautifulSoup\n",
    "\n",
    "url = 'https://www.ptt.cc/bbs/NBA/index.html'\n",
    "r = requests.get(url)\n",
    "\n",
    "soup = BeautifulSoup(r.text, \"html5lib\")\n",
    "\n",
    "for d in soup.find_all(class_=\"r-ent\"):\n",
    "    title = d.find_all(\"a\")[0].text\n",
    "    auther = d.find_all(class_=\"author\")\n",
    "    time = d.find_all(class_=\"date\")\n",
    "    print(title)\n",
    "    print(auther[0].text)\n",
    "    print(time[0].text)\n",
    "    break"
   ]
  },
  {
   "cell_type": "markdown",
   "metadata": {},
   "source": [
    "### ② 印出第一頁所有文章的「作者」「標題」「時間」"
   ]
  },
  {
   "cell_type": "code",
   "execution_count": 33,
   "metadata": {},
   "outputs": [
    {
     "name": "stdout",
     "output_type": "stream",
     "text": [
      "Re: [情報] 緯來體育台~Jordan 紀錄片 The Last Dance\n",
      "rent2ez\n",
      " 4/26\n"
     ]
    }
   ],
   "source": [
    "import requests\n",
    "from bs4 import BeautifulSoup\n",
    "\n",
    "url = 'https://www.ptt.cc/bbs/NBA/index.html'\n",
    "r = requests.get(url)\n",
    "\n",
    "soup = BeautifulSoup(r.text, \"html5lib\")\n",
    "\n",
    "for d in soup.find_all(class_=\"r-ent\"):\n",
    "    title = d.find_all(\"a\")[0].text\n",
    "    auther = d.find_all(class_=\"author\")\n",
    "    time = d.find_all(class_=\"date\")\n",
    "    print(title)\n",
    "    print(auther[0].text)\n",
    "    print(time[0].text)\n",
    "    break"
   ]
  },
  {
   "cell_type": "markdown",
   "metadata": {},
   "source": [
    "### ③ 試著爬爬看其他版的文章"
   ]
  },
  {
   "cell_type": "code",
   "execution_count": 32,
   "metadata": {},
   "outputs": [
    {
     "name": "stdout",
     "output_type": "stream",
     "text": [
      "<a href=\"/bbs/movie/M.1587960132.A.B0D.html\">[新聞] 《雙面遊戲》被謀殺的女友再度出現在眼前</a>\n",
      "[新聞] 《雙面遊戲》被謀殺的女友再度出現在眼前\n",
      "https://www.ptt.cc/bbs/movie/M.1587960132.A.B0D.html\n",
      "<a href=\"/bbs/movie/M.1587965919.A.1E7.html\">[ 好雷] 《搞鬼》反套路的驚悚復仇片</a>\n",
      "[ 好雷] 《搞鬼》反套路的驚悚復仇片\n",
      "https://www.ptt.cc/bbs/movie/M.1587965919.A.1E7.html\n",
      "<a href=\"/bbs/movie/M.1559611458.A.DCA.html\">[公告] 板規 2020/03/01 (增加14.1)</a>\n",
      "[公告] 板規 2020/03/01 (增加14.1)\n",
      "https://www.ptt.cc/bbs/movie/M.1559611458.A.DCA.html\n",
      "<a href=\"/bbs/movie/M.1565855832.A.0A7.html\">[公告] 板規新增每日發文上限規定</a>\n",
      "[公告] 板規新增每日發文上限規定\n",
      "https://www.ptt.cc/bbs/movie/M.1565855832.A.0A7.html\n",
      "<a href=\"/bbs/movie/M.1578684521.A.1B8.html\">[公告] 關於跑步哥</a>\n",
      "[公告] 關於跑步哥\n",
      "https://www.ptt.cc/bbs/movie/M.1578684521.A.1B8.html\n",
      "<a href=\"/bbs/movie/M.1584946598.A.41F.html\">[板規] 串流平台情報規範</a>\n",
      "[板規] 串流平台情報規範\n",
      "https://www.ptt.cc/bbs/movie/M.1584946598.A.41F.html\n"
     ]
    }
   ],
   "source": [
    "import requests\n",
    "from bs4 import BeautifulSoup\n",
    "\n",
    "url ='https://www.ptt.cc/bbs/movie/index.html'\n",
    "\n",
    "headers ={'User-Agent':'Mozilla/5.0 (Windows NT 10.0; Win64; x64) AppleWebKit/537.36 (KHTML, like Gecko) Chrome/80.0.3987.132 Safari/537.36'}\n",
    "\n",
    "\n",
    "res = requests.get(url,headers=headers)\n",
    "soup = BeautifulSoup(res.text,'html.parser')\n",
    "\n",
    "title = soup.select('div[class=\"title\"] a')\n",
    "\n",
    "for t in title:\n",
    "    try:\n",
    "        print(t)\n",
    "        article_title = t.text\n",
    "        article_url = 'https://www.ptt.cc'+ t ['href']\n",
    "        print(article_title)\n",
    "        print(article_url)\n",
    "    except:\n",
    "        print(t)\n"
   ]
  },
  {
   "cell_type": "code",
   "execution_count": null,
   "metadata": {},
   "outputs": [],
   "source": []
  }
 ],
 "metadata": {
  "kernelspec": {
   "display_name": "Python 3",
   "language": "python",
   "name": "python3"
  },
  "language_info": {
   "codemirror_mode": {
    "name": "ipython",
    "version": 3
   },
   "file_extension": ".py",
   "mimetype": "text/x-python",
   "name": "python",
   "nbconvert_exporter": "python",
   "pygments_lexer": "ipython3",
   "version": "3.7.6"
  }
 },
 "nbformat": 4,
 "nbformat_minor": 2
}
